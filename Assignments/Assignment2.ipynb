{
 "cells": [
  {
   "cell_type": "markdown",
   "metadata": {},
   "source": [
    "Part 1: Lists and List Slicing (20 points) \n",
    "1. (10 points) Create a list of 10 integers ranging from 1 to 20. Then, do the following: \n",
    "o Extract and print the first 5 elements of the list. \n",
    "o Extract and print the last 3 elements using negative indexing. \n",
    "o Extract and print all elements from index 3 to index 7. \n",
    "2. (10 points) Write a Python program that: \n",
    "o Creates a list of 5 different fruits. \n",
    "o Add two more fruits to the list. \n",
    "o Remove the last fruit in the list. \n",
    "o Print the updated list."
   ]
  },
  {
   "cell_type": "code",
   "execution_count": null,
   "metadata": {},
   "outputs": [
    {
     "name": "stdout",
     "output_type": "stream",
     "text": [
      "[1, 2, 3, 4, 5]\n",
      "[13, 14, 15]\n",
      "[4, 5, 10, 11, 12]\n"
     ]
    }
   ],
   "source": [
    "mylist=[1,2,3,4,5,10,11,12,13,14,15]\n",
    "print(mylist[:5])\n",
    "print(mylist[-3:])\n",
    "print(mylist[3:8])\n"
   ]
  },
  {
   "cell_type": "code",
   "execution_count": 4,
   "metadata": {},
   "outputs": [
    {
     "name": "stdout",
     "output_type": "stream",
     "text": [
      "['apple', 'banana', 'orange', 'Kiwi', 'watermelon', 'Mango']\n"
     ]
    }
   ],
   "source": [
    "mylist=[\"apple\",\"banana\",\"orange\",\"Kiwi\",\"watermelon\"]\n",
    "mylist.append(\"Mango\")\n",
    "mylist.append(\"pineapple\")\n",
    "mylist.pop(-1)\n",
    "print(mylist)\n"
   ]
  },
  {
   "cell_type": "markdown",
   "metadata": {},
   "source": [
    "Part 2: Tuples and Dictionaries (30 points) \n",
    "3. (10 points) \n",
    "o Create a tuple that contains 5 different cities. \n",
    "o Access and print the second city in the tuple. \n",
    "o Try to change the value of the second city in the tuple and explain why it does \n",
    "not work. \n",
    "4. (10 points) Write a Python program that creates a dictionary with the following keys and \n",
    "values: \n",
    "o 'name': 'John', 'age': 30, 'city': 'New York'. Then: \n",
    "o Print the value of the 'age' key. \n",
    "o Add a new key-value pair 'job': 'Engineer' to the dictionary. \n",
    "o Remove the 'city' key and print the updated dictionary. \n",
    "5. (10 points) Write a Python program that: \n",
    "o Creates a dictionary to store the names and ages of 3 people. \n",
    "o Print each person's name and their corresponding age using a loop."
   ]
  },
  {
   "cell_type": "code",
   "execution_count": 14,
   "metadata": {},
   "outputs": [
    {
     "name": "stdout",
     "output_type": "stream",
     "text": [
      "Alexandera\n"
     ]
    },
    {
     "ename": "TypeError",
     "evalue": "'tuple' object does not support item assignment",
     "output_type": "error",
     "traceback": [
      "\u001b[1;31m---------------------------------------------------------------------------\u001b[0m",
      "\u001b[1;31mTypeError\u001b[0m                                 Traceback (most recent call last)",
      "Cell \u001b[1;32mIn[14], line 3\u001b[0m\n\u001b[0;32m      1\u001b[0m tup\u001b[38;5;241m=\u001b[39m(\u001b[38;5;124m\"\u001b[39m\u001b[38;5;124mcairo\u001b[39m\u001b[38;5;124m\"\u001b[39m,\u001b[38;5;124m\"\u001b[39m\u001b[38;5;124mAlexandera\u001b[39m\u001b[38;5;124m\"\u001b[39m,\u001b[38;5;124m\"\u001b[39m\u001b[38;5;124msharmelsheikh\u001b[39m\u001b[38;5;124m\"\u001b[39m,\u001b[38;5;124m\"\u001b[39m\u001b[38;5;124mGiza\u001b[39m\u001b[38;5;124m\"\u001b[39m,\u001b[38;5;124m\"\u001b[39m\u001b[38;5;124mHurgada\u001b[39m\u001b[38;5;124m\"\u001b[39m)\n\u001b[0;32m      2\u001b[0m \u001b[38;5;28mprint\u001b[39m(tup[\u001b[38;5;241m1\u001b[39m])\n\u001b[1;32m----> 3\u001b[0m \u001b[43mtup\u001b[49m\u001b[43m[\u001b[49m\u001b[38;5;241;43m1\u001b[39;49m\u001b[43m]\u001b[49m\u001b[38;5;241m=\u001b[39m\u001b[38;5;124m\"\u001b[39m\u001b[38;5;124mkkk\u001b[39m\u001b[38;5;124m\"\u001b[39m\n\u001b[0;32m      4\u001b[0m \u001b[38;5;66;03m#it wont work because tuples aree immutable\u001b[39;00m\n",
      "\u001b[1;31mTypeError\u001b[0m: 'tuple' object does not support item assignment"
     ]
    }
   ],
   "source": [
    "tup=(\"cairo\",\"Alexandera\",\"sharmelsheikh\",\"Giza\",\"Hurgada\")\n",
    "print(tup[1])\n",
    "tup[1]=\"kkk\"\n",
    "#it wont work because tuples aree immutable\n"
   ]
  },
  {
   "cell_type": "code",
   "execution_count": 9,
   "metadata": {},
   "outputs": [
    {
     "name": "stdout",
     "output_type": "stream",
     "text": [
      "30\n",
      "{'name': 'John', 'age': 30, 'job': 'Engineer'}\n"
     ]
    }
   ],
   "source": [
    "mydict={\"name\":\"John\"\n",
    "        ,\"age\":30\n",
    "        ,\"city\":\"New york\"\n",
    "        }\n",
    "print(mydict[\"age\"])\n",
    "mydict[\"job\"]=\"Engineer\"\n",
    "del(mydict[\"city\"])\n",
    "print(mydict)\n"
   ]
  },
  {
   "cell_type": "code",
   "execution_count": 12,
   "metadata": {},
   "outputs": [
    {
     "name": "stdout",
     "output_type": "stream",
     "text": [
      "omar:19\n",
      "mohamed:20\n",
      "Ahmed:21\n"
     ]
    }
   ],
   "source": [
    "mydict={\"omar\":19,\"mohamed\":20,\"Ahmed\":21}\n",
    "for i,j in mydict.items():\n",
    "    print(f\"{i}:{j}\")\n"
   ]
  },
  {
   "cell_type": "markdown",
   "metadata": {},
   "source": [
    "Part 3: Conditional Statements (30 points) \n",
    "6. (10 points) Write a Python program that takes the user's age as input and prints: \n",
    "o 'Adult' if the age is 18 or older. \n",
    "o 'Minor' if the age is less than 18. \n",
    "7. (10 points) Write a Python program that checks if a number entered by the user is: \n",
    "o 'Even' if it is divisible by 2. \n",
    "o 'Odd' if it is not divisible by 2. \n",
    "You must use an if-else statement for this task. \n",
    "8. (10 points) Write a Python program that: \n",
    "o Takes a score from the user and prints the grade based on the following criteria: \n",
    "▪ 90 and above: 'A' \n",
    "▪ 70-89: 'B' \n",
    "▪ 50-69: 'C' \n",
    "▪ Below 50: 'F' "
   ]
  },
  {
   "cell_type": "code",
   "execution_count": 13,
   "metadata": {},
   "outputs": [
    {
     "name": "stdout",
     "output_type": "stream",
     "text": [
      "Adult\n"
     ]
    }
   ],
   "source": [
    "Age=int(input(\"Enter your age\"))\n",
    "if(Age>=18):\n",
    "    print(\"Adult\")\n",
    "else:\n",
    "    print(\"Minor\")\n"
   ]
  },
  {
   "cell_type": "code",
   "execution_count": null,
   "metadata": {},
   "outputs": [],
   "source": [
    "num=int(input(\"Enter num1\"))\n",
    "if(num%2==0):\n",
    "    print(\"Even\")\n",
    "else:\n",
    "    print(\"Odd\")"
   ]
  },
  {
   "cell_type": "code",
   "execution_count": 16,
   "metadata": {},
   "outputs": [
    {
     "name": "stdout",
     "output_type": "stream",
     "text": [
      "B\n"
     ]
    }
   ],
   "source": [
    "Grade=int(input(\"Enter your grade: \"))\n",
    "if(Grade>=90):\n",
    "    print(\"A\")\n",
    "elif(Grade>=70):\n",
    "    print(\"B\")\n",
    "elif(Grade>=50):\n",
    "    print(\"C\")\n",
    "elif(Grade<50):\n",
    "    print(\"F\")"
   ]
  },
  {
   "cell_type": "markdown",
   "metadata": {},
   "source": [
    "Part 4: Loops (30 points) \n",
    "9. (10 points) Write a Python program that uses a for loop to print all even numbers \n",
    "between 1 and 20. \n",
    "10. (10 points) Write a Python program that uses a while loop to print the numbers from 10 \n",
    "to 1, in descending order. \n",
    "11. (10 points) Write a Python program that: \n",
    "• Asks the user to input a number. \n",
    "• Then, using a for loop, calculates the sum of all numbers from 1 to the entered number \n",
    "(inclusive) and prints the result. "
   ]
  },
  {
   "cell_type": "code",
   "execution_count": 17,
   "metadata": {},
   "outputs": [
    {
     "name": "stdout",
     "output_type": "stream",
     "text": [
      "0\n",
      "2\n",
      "4\n",
      "6\n",
      "8\n",
      "10\n",
      "12\n",
      "14\n",
      "16\n",
      "18\n"
     ]
    }
   ],
   "source": [
    "for i in range(20):\n",
    "    if(i%2==0):\n",
    "        print(i)"
   ]
  },
  {
   "cell_type": "code",
   "execution_count": null,
   "metadata": {},
   "outputs": [
    {
     "ename": "",
     "evalue": "",
     "output_type": "error",
     "traceback": [
      "\u001b[1;31mRunning cells with 'Python 3.13.0' requires the ipykernel package.\n",
      "\u001b[1;31mRun the following command to install 'ipykernel' into the Python environment. \n",
      "\u001b[1;31mCommand: 'd:/DownLoad/python/python3.13t.exe -m pip install ipykernel -U --user --force-reinstall'"
     ]
    }
   ],
   "source": [
    "num=int(input(\"Enter a number\"))\n",
    "while(num>0):\n",
    "    print(num)\n",
    "    num-=1"
   ]
  },
  {
   "cell_type": "code",
   "execution_count": 19,
   "metadata": {},
   "outputs": [
    {
     "name": "stdout",
     "output_type": "stream",
     "text": [
      "28\n"
     ]
    }
   ],
   "source": [
    "num=int(input(\"Enter num\"))\n",
    "sum=0\n",
    "for i in range(num):\n",
    "    sum+=i\n",
    "print(sum)"
   ]
  },
  {
   "cell_type": "markdown",
   "metadata": {},
   "source": [
    "Part 5: Input Function and User Interaction (20 points) \n",
    "12. (10 points) Write a Python program that asks the user for their name and age, then prints \n",
    "a message saying: \"Hello, [name]! You are [age] years old.\" \n",
    "13. (10 points) Write a Python program that asks the user for their favorite color and checks \n",
    "if it is 'blue'. If it is, print \"You have great taste!\", otherwise print \"That's a \n",
    "nice color too!\" "
   ]
  },
  {
   "cell_type": "code",
   "execution_count": null,
   "metadata": {},
   "outputs": [
    {
     "name": "stdout",
     "output_type": "stream",
     "text": [
      "Hello,omar! you are 19 years old\n"
     ]
    }
   ],
   "source": [
    "def greeting():\n",
    "    name=input(\"Enter name\")\n",
    "    Age=int(input(\"Enter age\"))\n",
    "    print(f\"Hello,{name}! you are {Age} years old\")\n",
    "def main():\n",
    "    greeting()\n",
    "main()"
   ]
  },
  {
   "cell_type": "code",
   "execution_count": 28,
   "metadata": {},
   "outputs": [
    {
     "name": "stdout",
     "output_type": "stream",
     "text": [
      "Hi how are you please write your favourite color\n",
      "you have good taste too\n"
     ]
    }
   ],
   "source": [
    "def color():\n",
    "    col=input(\"EnterColor:\")\n",
    "    if(col.lower()==\"blue\"):\n",
    "        print(\"you have great taste\")\n",
    "    else:\n",
    "        print(\"you have good taste too\")\n",
    "\n",
    "def main():\n",
    "    print(\"Hi how are you please write your favourite color\")\n",
    "    color()\n",
    "main()"
   ]
  },
  {
   "cell_type": "markdown",
   "metadata": {},
   "source": [
    "Bonus Question (10 points) \n",
    "14. (10 points) Write a Python program that asks the user to enter a list of 5 numbers. \n",
    "Then: \n",
    "• Calculate and print the average of the numbers. \n",
    "• Print the largest and smallest numbers from the list. "
   ]
  },
  {
   "cell_type": "code",
   "execution_count": 31,
   "metadata": {},
   "outputs": [
    {
     "name": "stdout",
     "output_type": "stream",
     "text": [
      "3.0\n",
      "1\n",
      "5\n"
     ]
    }
   ],
   "source": [
    "mylist=[]\n",
    "sum=0\n",
    "ct=0\n",
    "for i in range(5):\n",
    "    num=int(input(\"Enter number: \"))\n",
    "    mylist.append(num)\n",
    "    sum+=num\n",
    "    ct+=1\n",
    "avg=sum/ct\n",
    "print(avg)\n",
    "print(min(mylist))\n",
    "print(max(mylist))"
   ]
  }
 ],
 "metadata": {
  "kernelspec": {
   "display_name": "Python 3",
   "language": "python",
   "name": "python3"
  },
  "language_info": {
   "codemirror_mode": {
    "name": "ipython",
    "version": 3
   },
   "file_extension": ".py",
   "mimetype": "text/x-python",
   "name": "python",
   "nbconvert_exporter": "python",
   "pygments_lexer": "ipython3",
   "version": "3.13.0"
  }
 },
 "nbformat": 4,
 "nbformat_minor": 2
}
