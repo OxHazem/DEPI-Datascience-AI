{
 "cells": [
  {
   "cell_type": "markdown",
   "metadata": {},
   "source": [
    "Section 1: Printing Messages \n",
    "1. Write a Python program to print the following message on the screen: \n",
    "\"Hello, Python learners! Today we start our coding journey.\" \n",
    "Challenge: Print a multi-line message using triple quotes that includes your name and \n",
    "favorite programming language. "
   ]
  },
  {
   "cell_type": "code",
   "execution_count": 28,
   "metadata": {},
   "outputs": [
    {
     "name": "stdout",
     "output_type": "stream",
     "text": [
      "Hello, Python learners! Today we start our coding journey.\n",
      " Hello Python learners \n",
      "Today we start our coding journey.\n",
      " \"Hello, Python learners! Today we start our coding journey.\"\n",
      "\n"
     ]
    }
   ],
   "source": [
    "print(\"Hello, Python learners! Today we start our coding journey.\")\n",
    "print(\" Hello Python learners \\nToday we start our coding journey.\")\n",
    "print(''' \"Hello, Python learners! Today we start our coding journey.\"\n",
    "''')"
   ]
  },
  {
   "cell_type": "markdown",
   "metadata": {},
   "source": [
    "Section 2: Variables and Data Types \n",
    "1. Create a variable called age and assign it your age. Print a message that says, \"I am \n",
    "[age] years old.\" \n",
    "Challenge: Create three variables of different data types (integer, float, and string). Print \n",
    "each variable with a description of its data type."
   ]
  },
  {
   "cell_type": "code",
   "execution_count": 21,
   "metadata": {},
   "outputs": [
    {
     "name": "stdout",
     "output_type": "stream",
     "text": [
      "I am 19 years old.\n",
      "19.0\n",
      "19\n",
      "19\n"
     ]
    }
   ],
   "source": [
    "Age=19\n",
    "age=19.0\n",
    "s_age=\"19\"\n",
    "print(f\"I am {Age} years old.\" )\n",
    "print(age)\n",
    "print(s_age)\n",
    "print(Age)"
   ]
  },
  {
   "cell_type": "markdown",
   "metadata": {},
   "source": [
    "Section 3: Working with Strings \n",
    "1. Given the string text = \"Python is amazing\", write a program to extract and print the \n",
    "word \"amazing\" from it. \n",
    "Challenge: Concatenate two strings, first_name and last_name, with a space in between, and \n",
    "print the full name in uppercase."
   ]
  },
  {
   "cell_type": "code",
   "execution_count": 24,
   "metadata": {},
   "outputs": [
    {
     "name": "stdout",
     "output_type": "stream",
     "text": [
      "amazing\n",
      "OMAR HAZEM\n"
     ]
    }
   ],
   "source": [
    "text= \"Python is amazing\"\n",
    "print(text[10:])\n",
    "first_name=\"omar\"\n",
    "last_name=\"hazem\"\n",
    "print(first_name.upper()+ \" \" +last_name.upper())\n"
   ]
  },
  {
   "cell_type": "markdown",
   "metadata": {},
   "source": [
    "Section 4: Basic Operations \n",
    "1. Write a program to calculate the area of a rectangle with a width of 5 and a height of \n",
    "10. \n",
    "Challenge: Create two numbers, a = 20 and b = 7, and print the result of each arithmetic \n",
    "operation: addition, subtraction, multiplication, division, and modulo."
   ]
  },
  {
   "cell_type": "code",
   "execution_count": null,
   "metadata": {},
   "outputs": [
    {
     "name": "stdout",
     "output_type": "stream",
     "text": [
      "50\n"
     ]
    }
   ],
   "source": [
    "\n",
    "height=10\n",
    "width=5\n",
    "area=height*width\n",
    "print(area)\n",
    "print(height+width)\n",
    "print(height/width)\n",
    "print(height*width)\n",
    "print(height-width)"
   ]
  },
  {
   "cell_type": "markdown",
   "metadata": {},
   "source": [
    "Section 5: Lists and Tuples \n",
    "1. Create a list of five of your favorite foods. Print the entire list, then print the third \n",
    "item in the list. \n",
    "Challenge: Convert the list into a tuple, and try to change the first item in the tuple. Observe \n",
    "and explain the result. "
   ]
  },
  {
   "cell_type": "code",
   "execution_count": 25,
   "metadata": {},
   "outputs": [
    {
     "name": "stdout",
     "output_type": "stream",
     "text": [
      "['chicken', 'fries', 'orange', 'apple', 'fish']\n",
      "orange\n",
      "('chicken', 'fries', 'orange', 'apple', 'fish')\n"
     ]
    }
   ],
   "source": [
    "food=['chicken','fries','orange','apple','fish']\n",
    "\n",
    "print(food)\n",
    "print(food[2])\n",
    "food=tuple(food)\n",
    "print(food)"
   ]
  },
  {
   "cell_type": "markdown",
   "metadata": {},
   "source": [
    "Section 6: String Manipulation and Slicing \n",
    "1. Given the string sentence = \"Learning Python is fun!\", write a program to slice and \n",
    "print the word \"Python\" from it. \n",
    "Challenge: Replace the word \"fun\" with \"awesome\" in the sentence and print the new \n",
    "sentence. "
   ]
  },
  {
   "cell_type": "code",
   "execution_count": 15,
   "metadata": {},
   "outputs": [
    {
     "name": "stdout",
     "output_type": "stream",
     "text": [
      "Python\n",
      "Learning Python is fun!\n"
     ]
    }
   ],
   "source": [
    "sentence=\"Learning Python is fun!\"\n",
    "print(sentence[9:15])\n",
    "sentence.replace(\"awesome\",\"fun\")\n",
    "print(sentence)"
   ]
  },
  {
   "cell_type": "markdown",
   "metadata": {},
   "source": [
    "Section 7: Dictionaries \n",
    "1. Create a dictionary called student with the keys name, age, and grade. Assign values \n",
    "to each key and print the dictionary. \n",
    "Challenge: Add a new key city to the dictionary and set it to any city name. Print the \n",
    "updated dictionary. "
   ]
  },
  {
   "cell_type": "code",
   "execution_count": 17,
   "metadata": {},
   "outputs": [
    {
     "name": "stdout",
     "output_type": "stream",
     "text": [
      "{'name': 'omar hazem', 'age': 19, 'grade': 100}\n",
      "{'name': 'omar hazem', 'age': 19, 'grade': 100, 'city': 'Giza'}\n"
     ]
    }
   ],
   "source": [
    "dictionary={\"name\":\"omar hazem\",\"age\":19,\"grade\":100}\n",
    "\n",
    "print(dictionary)\n",
    "dictionary['city']='Giza'\n",
    "print(dictionary)"
   ]
  },
  {
   "cell_type": "markdown",
   "metadata": {},
   "source": [
    " \n",
    "Section8: Basic Arithmetic Operations \n",
    "1. Write a program that takes two numbers from the user and prints their sum, \n",
    "difference, product, and division result. \n",
    "Challenge: Use the modulo operator to check if the first number is divisible by the second \n",
    "number, and print the result as \"Divisible\" or \"Not Divisible\"."
   ]
  },
  {
   "cell_type": "code",
   "execution_count": 27,
   "metadata": {},
   "outputs": [
    {
     "name": "stdout",
     "output_type": "stream",
     "text": [
      "110\n",
      "3025\n",
      "0\n",
      "1.0\n",
      "divsible\n"
     ]
    }
   ],
   "source": [
    "x=int(input(\"Enter num1\"))\n",
    "y=int(input(\"Enter num2\"))\n",
    "print(x+y)\n",
    "print(x*y)\n",
    "print(x-y)\n",
    "print(x/y)\n",
    "if(x%y==0):\n",
    "    print(\"divsible\")\n",
    "else:\n",
    "    print(\"not divisible\")"
   ]
  }
 ],
 "metadata": {
  "kernelspec": {
   "display_name": "Python 3",
   "language": "python",
   "name": "python3"
  },
  "language_info": {
   "codemirror_mode": {
    "name": "ipython",
    "version": 3
   },
   "file_extension": ".py",
   "mimetype": "text/x-python",
   "name": "python",
   "nbconvert_exporter": "python",
   "pygments_lexer": "ipython3",
   "version": "3.13.0"
  }
 },
 "nbformat": 4,
 "nbformat_minor": 2
}
