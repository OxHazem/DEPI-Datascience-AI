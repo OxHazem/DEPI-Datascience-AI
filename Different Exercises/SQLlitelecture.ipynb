{
 "cells": [
  {
   "cell_type": "code",
   "execution_count": 1,
   "metadata": {},
   "outputs": [],
   "source": [
    "import sqlite3"
   ]
  },
  {
   "cell_type": "code",
   "execution_count": 2,
   "metadata": {},
   "outputs": [],
   "source": [
    "conn=sqlite3.connect('school.db')\n",
    "cursor=conn.cursor()"
   ]
  },
  {
   "cell_type": "code",
   "execution_count": 4,
   "metadata": {},
   "outputs": [
    {
     "data": {
      "text/plain": [
       "<sqlite3.Cursor at 0x1e7df5c75c0>"
      ]
     },
     "execution_count": 4,
     "metadata": {},
     "output_type": "execute_result"
    }
   ],
   "source": [
    "cursor.execute('''CREATE TABLE IF NOT EXISTS students ( id INTEGER PRIMARY KEY AUTOINCREMENT, name TEXT, age INTEGER, gender TEXT )''')\n",
    "cursor.execute('''CREATE TABLE IF NOT EXISTS courses ( id INTEGER PRIMARY KEY AUTOINCREMENT, name TEXT, credits INTEGER )''') \n",
    "cursor.execute('''CREATE TABLE IF NOT EXISTS enrollments ( id INTEGER PRIMARY KEY AUTOINCREMENT, student_id INTEGER, course_id INTEGER, grade REAL, FOREIGN KEY(student_id) REFERENCES students(id), FOREIGN KEY(course_id) REFERENCES courses(id))''')"
   ]
  },
  {
   "cell_type": "code",
   "execution_count": 5,
   "metadata": {},
   "outputs": [
    {
     "data": {
      "text/plain": [
       "<sqlite3.Cursor at 0x1e7df5c75c0>"
      ]
     },
     "execution_count": 5,
     "metadata": {},
     "output_type": "execute_result"
    }
   ],
   "source": [
    "cursor.executemany('INSERT INTO students (name, age, gender) VALUES (?, ?, ?)', [\n",
    "\n",
    "('Alice', 22, 'F'),\n",
    "\n",
    "('Bob', 20, 'M'),\n",
    "\n",
    "('Charlie', 23, 'M')\n",
    "\n",
    "])\n",
    "\n",
    "\n",
    "cursor.executemany('INSERT INTO courses (name, credits) VALUES (?, ?)', [\n",
    "\n",
    "('Math', 3),\n",
    "\n",
    "('Science', 4),\n",
    "\n",
    "('History', 2)\n",
    "\n",
    "])\n",
    "\n",
    "\n",
    "cursor.executemany('INSERT INTO enrollments (student_id, course_id, grade) VALUES (?, ?, ?)', [\n",
    "\n",
    "(1, 1, 85),\n",
    "\n",
    "(1, 2, 90),\n",
    "\n",
    "(2, 1, 78),\n",
    "\n",
    "(3, 3, 88)\n",
    "\n",
    "])"
   ]
  },
  {
   "cell_type": "code",
   "execution_count": 9,
   "metadata": {},
   "outputs": [
    {
     "name": "stdout",
     "output_type": "stream",
     "text": [
      "[(1, 'Alice', 22, 'F'), (2, 'Bob', 20, 'M'), (3, 'Charlie', 23, 'M')]\n"
     ]
    }
   ],
   "source": [
    "cursor.execute('Select * from students')\n",
    "print(cursor.fetchall())"
   ]
  },
  {
   "cell_type": "code",
   "execution_count": 16,
   "metadata": {},
   "outputs": [
    {
     "name": "stdout",
     "output_type": "stream",
     "text": [
      "[(1, 'Alice', 22, 'F'), (2, 'Bob', 20, 'M'), (3, 'Charlie', 23, 'M'), (4, 'omar', 19, 'M')]\n"
     ]
    }
   ],
   "source": [
    "#cursor.executescript(\"Insert into Students values (4,'omar',19,'M')\")\n",
    "cursor.execute('Select * from students')\n",
    "print(cursor.fetchall())\n"
   ]
  },
  {
   "cell_type": "code",
   "execution_count": 17,
   "metadata": {},
   "outputs": [
    {
     "name": "stdout",
     "output_type": "stream",
     "text": [
      "[('Alice',), ('Bob',), ('Charlie',)]\n"
     ]
    }
   ],
   "source": [
    "cursor.execute('select name from students where age>=20')\n",
    "print(cursor.fetchall())"
   ]
  },
  {
   "cell_type": "code",
   "execution_count": 21,
   "metadata": {},
   "outputs": [
    {
     "name": "stdout",
     "output_type": "stream",
     "text": [
      "[('Alice', 85.0), ('Alice', 90.0), ('Charlie', 88.0)]\n"
     ]
    }
   ],
   "source": [
    "cursor.execute('''SELECT s.name, e.grade\n",
    "\n",
    "FROM students s\n",
    "\n",
    "JOIN enrollments e ON s.id = e.student_id\n",
    "\n",
    "WHERE e.grade BETWEEN 80 AND 90''')\n",
    "\n",
    "print(cursor.fetchall())"
   ]
  },
  {
   "cell_type": "code",
   "execution_count": 22,
   "metadata": {},
   "outputs": [
    {
     "name": "stdout",
     "output_type": "stream",
     "text": [
      "[('Math', 3), ('Science', 4), ('History', 2)]\n"
     ]
    }
   ],
   "source": [
    "cursor.execute(\"SELECT name, credits FROM courses\")\n",
    "\n",
    "print(cursor.fetchall())"
   ]
  },
  {
   "cell_type": "code",
   "execution_count": 23,
   "metadata": {},
   "outputs": [
    {
     "name": "stdout",
     "output_type": "stream",
     "text": [
      "[(3, 'Charlie', 23, 'M'), (1, 'Alice', 22, 'F'), (2, 'Bob', 20, 'M'), (4, 'omar', 19, 'M')]\n"
     ]
    }
   ],
   "source": [
    "cursor.execute(\"SELECT * FROM students ORDER BY age DESC\")\n",
    "\n",
    "print(cursor.fetchall())"
   ]
  },
  {
   "cell_type": "code",
   "execution_count": null,
   "metadata": {},
   "outputs": [],
   "source": [
    "cursor.execute(\"SELECT * FROM students join enrollments  ON  \")"
   ]
  },
  {
   "cell_type": "code",
   "execution_count": null,
   "metadata": {},
   "outputs": [
    {
     "name": "stdout",
     "output_type": "stream",
     "text": [
      "[(1, 'Alice')]\n",
      "[('Alice', 2), ('Bob', 1), ('Charlie', 1)]\n"
     ]
    },
    {
     "ename": "",
     "evalue": "",
     "output_type": "error",
     "traceback": [
      "\u001b[1;31mThe Kernel crashed while executing code in the current cell or a previous cell. \n",
      "\u001b[1;31mPlease review the code in the cell(s) to identify a possible cause of the failure. \n",
      "\u001b[1;31mClick <a href='https://aka.ms/vscodeJupyterKernelCrash'>here</a> for more info. \n",
      "\u001b[1;31mView Jupyter <a href='command:jupyter.viewOutput'>log</a> for further details."
     ]
    }
   ],
   "source": [
    "cursor.execute(\"\"\"select  students.id ,students.name from students join enrollments on students.id = enrollments.student_id\n",
    "            join courses on enrollments.course_id = courses.id\n",
    "            where courses.name ='Math' AND enrollments.grade >80 \"\"\")\n",
    "\n",
    "print(cursor.fetchall())\n",
    "cursor.execute('''select Students.name ,count(enrollments.course_id)\n",
    "            From students\n",
    "            join enrollments  on students.id =enrollments.student_id\n",
    "            Group by Students.id  ''')\n",
    "\n",
    "print(cursor.fetchall())\n"
   ]
  }
 ],
 "metadata": {
  "kernelspec": {
   "display_name": "Python 3",
   "language": "python",
   "name": "python3"
  },
  "language_info": {
   "codemirror_mode": {
    "name": "ipython",
    "version": 3
   },
   "file_extension": ".py",
   "mimetype": "text/x-python",
   "name": "python",
   "nbconvert_exporter": "python",
   "pygments_lexer": "ipython3",
   "version": "3.13.0"
  }
 },
 "nbformat": 4,
 "nbformat_minor": 2
}
