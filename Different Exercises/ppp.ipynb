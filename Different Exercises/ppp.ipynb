{
 "cells": [
  {
   "cell_type": "code",
   "execution_count": 1,
   "metadata": {},
   "outputs": [
    {
     "name": "stdout",
     "output_type": "stream",
     "text": [
      "Requirement already satisfied: psycopg2 in d:\\download\\python\\lib\\site-packages (2.9.10)\n"
     ]
    },
    {
     "name": "stderr",
     "output_type": "stream",
     "text": [
      "WARNING: Ignoring invalid distribution ~upyter-client (C:\\Users\\Omar\\AppData\\Roaming\\Python\\Python313\\site-packages)\n",
      "WARNING: Ignoring invalid distribution ~upyter-client (C:\\Users\\Omar\\AppData\\Roaming\\Python\\Python313\\site-packages)\n",
      "WARNING: Ignoring invalid distribution ~upyter-client (C:\\Users\\Omar\\AppData\\Roaming\\Python\\Python313\\site-packages)\n",
      "WARNING: Ignoring invalid distribution ~upyter-client (C:\\Users\\Omar\\AppData\\Roaming\\Python\\Python313\\site-packages)\n",
      "WARNING: Ignoring invalid distribution ~upyter-client (C:\\Users\\Omar\\AppData\\Roaming\\Python\\Python313\\site-packages)\n"
     ]
    }
   ],
   "source": [
    "!pip install psycopg2"
   ]
  },
  {
   "cell_type": "code",
   "execution_count": null,
   "metadata": {},
   "outputs": [
    {
     "ename": "ImportError",
     "evalue": "DLL load failed while importing _psycopg: The specified module could not be found.",
     "output_type": "error",
     "traceback": [
      "\u001b[1;31m---------------------------------------------------------------------------\u001b[0m",
      "\u001b[1;31mImportError\u001b[0m                               Traceback (most recent call last)",
      "Cell \u001b[1;32mIn[13], line 1\u001b[0m\n\u001b[1;32m----> 1\u001b[0m \u001b[38;5;28;01mimport\u001b[39;00m \u001b[38;5;21;01mpsycopg2\u001b[39;00m\n",
      "File \u001b[1;32md:\\DownLoad\\python\\Lib\\site-packages\\psycopg2\\__init__.py:51\u001b[0m\n\u001b[0;32m      1\u001b[0m \u001b[38;5;124;03m\"\"\"A Python driver for PostgreSQL\u001b[39;00m\n\u001b[0;32m      2\u001b[0m \n\u001b[0;32m      3\u001b[0m \u001b[38;5;124;03mpsycopg is a PostgreSQL_ database adapter for the Python_ programming\u001b[39;00m\n\u001b[1;32m   (...)\u001b[0m\n\u001b[0;32m     17\u001b[0m \u001b[38;5;124;03m    TimeFromTicks, Timestamp, TimestampFromTicks\u001b[39;00m\n\u001b[0;32m     18\u001b[0m \u001b[38;5;124;03m\"\"\"\u001b[39;00m\n\u001b[0;32m     19\u001b[0m \u001b[38;5;66;03m# psycopg/__init__.py - initialization of the psycopg module\u001b[39;00m\n\u001b[0;32m     20\u001b[0m \u001b[38;5;66;03m#\u001b[39;00m\n\u001b[0;32m     21\u001b[0m \u001b[38;5;66;03m# Copyright (C) 2003-2019 Federico Di Gregorio  <fog@debian.org>\u001b[39;00m\n\u001b[1;32m   (...)\u001b[0m\n\u001b[0;32m     48\u001b[0m \n\u001b[0;32m     49\u001b[0m \u001b[38;5;66;03m# Import the DBAPI-2.0 stuff into top-level module.\u001b[39;00m\n\u001b[1;32m---> 51\u001b[0m \u001b[38;5;28;01mfrom\u001b[39;00m \u001b[38;5;21;01mpsycopg2\u001b[39;00m\u001b[38;5;21;01m.\u001b[39;00m\u001b[38;5;21;01m_psycopg\u001b[39;00m \u001b[38;5;28;01mimport\u001b[39;00m (                     \u001b[38;5;66;03m# noqa\u001b[39;00m\n\u001b[0;32m     52\u001b[0m     BINARY, NUMBER, STRING, DATETIME, ROWID,\n\u001b[0;32m     53\u001b[0m \n\u001b[0;32m     54\u001b[0m     Binary, Date, Time, Timestamp,\n\u001b[0;32m     55\u001b[0m     DateFromTicks, TimeFromTicks, TimestampFromTicks,\n\u001b[0;32m     56\u001b[0m \n\u001b[0;32m     57\u001b[0m     Error, \u001b[38;5;167;01mWarning\u001b[39;00m, DataError, DatabaseError, ProgrammingError, IntegrityError,\n\u001b[0;32m     58\u001b[0m     InterfaceError, InternalError, NotSupportedError, OperationalError,\n\u001b[0;32m     59\u001b[0m \n\u001b[0;32m     60\u001b[0m     _connect, apilevel, threadsafety, paramstyle,\n\u001b[0;32m     61\u001b[0m     __version__, __libpq_version__,\n\u001b[0;32m     62\u001b[0m )\n\u001b[0;32m     65\u001b[0m \u001b[38;5;66;03m# Register default adapters.\u001b[39;00m\n\u001b[0;32m     67\u001b[0m \u001b[38;5;28;01mfrom\u001b[39;00m \u001b[38;5;21;01mpsycopg2\u001b[39;00m \u001b[38;5;28;01mimport\u001b[39;00m extensions \u001b[38;5;28;01mas\u001b[39;00m _ext\n",
      "\u001b[1;31mImportError\u001b[0m: DLL load failed while importing _psycopg: The specified module could not be found."
     ]
    }
   ],
   "source": []
  }
 ],
 "metadata": {
  "kernelspec": {
   "display_name": "Python 3",
   "language": "python",
   "name": "python3"
  },
  "language_info": {
   "codemirror_mode": {
    "name": "ipython",
    "version": 3
   },
   "file_extension": ".py",
   "mimetype": "text/x-python",
   "name": "python",
   "nbconvert_exporter": "python",
   "pygments_lexer": "ipython3",
   "version": "3.13.0"
  }
 },
 "nbformat": 4,
 "nbformat_minor": 2
}
